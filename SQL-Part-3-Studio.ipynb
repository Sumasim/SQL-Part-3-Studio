{
    "metadata": {
        "kernelspec": {
            "name": "SQL",
            "display_name": "SQL",
            "language": "sql"
        },
        "language_info": {
            "name": "sql",
            "version": ""
        },
        "extensions": {
            "azuredatastudio": {
                "version": 1,
                "views": []
            }
        }
    },
    "nbformat_minor": 2,
    "nbformat": 4,
    "cells": [
        {
            "cell_type": "markdown",
            "source": [
                "# SQL Part 3 Studio\n",
                "\n",
                "### Let's practice your SQL quering skills!  For each question, work along in the notebook adding your query and answering the questions. \n",
                "\n",
                "### **DataSet**\n",
                "\n",
                "### <span style=\"font-size: 14px; font-family: -apple-system, BlinkMacSystemFont, sans-serif;\">We will be using the Goodbooks-10k dataset from the exercises in the prep work.&nbsp; Feel free reference your previous notebooks.</span>\n",
                "\n",
                "- The dataset can be found here: [goodbooks-10k](https://www.kaggle.com/zygmunt/goodbooks-10k)\n",
                "- You can access the **BooksDB** in the Launchcode server.\n",
                "\n",
                "### **Business Issue**\n",
                "\n",
                "You are an employee at a small independet bookstore and you have been tasked to increase sales.  You decide to use the BooksDB to find books and themes to highlight in fun promotions throughout each month / season.  We will be starting with March and then you will have a chance to explore another month of your choosing.  We want to come up with a list of events/ promotions to run each month.  If you are looking for ideas to include in your promotions:\n",
                "\n",
                "- [https://www.calendarr.com/united-states/calendar-2022/](https://www.calendarr.com/united-states/calendar-2022/)\n",
                "- [https://www.holidayinsights.com/moreholidays/](https://www.holidayinsights.com/moreholidays/)\n",
                "    - Click on a month and it will take you to a more detailed page"
            ],
            "metadata": {
                "azdata_cell_guid": "b9034d8a-b631-48bf-a895-1012a6ffa784"
            },
            "attachments": {}
        },
        {
            "cell_type": "markdown",
            "source": [
                "## Part 1:  March - Women's History Month, Dr Seuss Day(3/2), National Pie Day3/14, St Patrick's Day (3/17), Season - Spring"
            ],
            "metadata": {
                "azdata_cell_guid": "6e55eb1c-4a14-4076-90d2-95ed17a6309f"
            },
            "attachments": {}
        },
        {
            "cell_type": "markdown",
            "source": [
                "### **Event 1:** Women's History Month\n",
                "\n",
                "Goal: Highlight Popular Womans Authors based on ratings from the Good Reads DB.\n",
                "\n",
                "### **Write a query that returns tag\\_id, the number of times each tag\\_id is used and the tag\\_name.**  \n",
                "\n",
                "### Use the GROUP BY and HAVING clause to narrow your focus.\n",
                "\n",
                "Try multiple keywords, ie woman vs female (female ended up giving better results)"
            ],
            "metadata": {
                "azdata_cell_guid": "d220c097-e9cf-4edd-9abe-312d071217b7"
            },
            "attachments": {}
        },
        {
            "cell_type": "code",
            "source": [
                "-- Solution\r\n",
                "select count(tag_id) as Tag_id, tag_id, tag_name\r\n",
                "from BooksDB.dbo.tags \r\n",
                "group by  tag_id,tag_name\r\n",
                "having tag_name like '%women%' or tag_name like '%female%'"
            ],
            "metadata": {
                "azdata_cell_guid": "e31b9d26-0386-44c7-828e-85f4f06f3ee6",
                "language": "sql"
            },
            "outputs": [
                {
                    "output_type": "display_data",
                    "data": {
                        "text/html": "(127 rows affected)"
                    },
                    "metadata": {}
                },
                {
                    "output_type": "display_data",
                    "data": {
                        "text/html": "Total execution time: 00:00:00.464"
                    },
                    "metadata": {}
                },
                {
                    "output_type": "execute_result",
                    "metadata": {},
                    "execution_count": 1,
                    "data": {
                        "application/vnd.dataresource+json": {
                            "schema": {
                                "fields": [
                                    {
                                        "name": "Tag_id"
                                    },
                                    {
                                        "name": "tag_id"
                                    },
                                    {
                                        "name": "tag_name"
                                    }
                                ]
                            },
                            "data": [
                                {
                                    "Tag_id": "1",
                                    "tag_id": "452",
                                    "tag_name": "1960s-women-s-status"
                                },
                                {
                                    "Tag_id": "1",
                                    "tag_id": "891",
                                    "tag_name": "2017-read-women"
                                },
                                {
                                    "Tag_id": "1",
                                    "tag_id": "1082",
                                    "tag_name": "4-women-intertwined-stories"
                                },
                                {
                                    "Tag_id": "1",
                                    "tag_id": "1149",
                                    "tag_name": "500-women"
                                },
                                {
                                    "Tag_id": "1",
                                    "tag_id": "1503",
                                    "tag_name": "abused-women"
                                },
                                {
                                    "Tag_id": "1",
                                    "tag_id": "1741",
                                    "tag_name": "afghan-female-entrepreneur-under-ta"
                                },
                                {
                                    "Tag_id": "1",
                                    "tag_id": "2824",
                                    "tag_name": "arab-women"
                                },
                                {
                                    "Tag_id": "1",
                                    "tag_id": "3162",
                                    "tag_name": "artist-women-bio"
                                },
                                {
                                    "Tag_id": "1",
                                    "tag_id": "3476",
                                    "tag_name": "australian-women-writers"
                                },
                                {
                                    "Tag_id": "1",
                                    "tag_id": "3514",
                                    "tag_name": "author-female"
                                },
                                {
                                    "Tag_id": "1",
                                    "tag_id": "4309",
                                    "tag_name": "best-adult-female-friendship-books"
                                },
                                {
                                    "Tag_id": "1",
                                    "tag_id": "4603",
                                    "tag_name": "biographies-of-women"
                                },
                                {
                                    "Tag_id": "1",
                                    "tag_id": "4622",
                                    "tag_name": "biography-women"
                                },
                                {
                                    "Tag_id": "1",
                                    "tag_id": "5129",
                                    "tag_name": "books-by-women"
                                },
                                {
                                    "Tag_id": "1",
                                    "tag_id": "6038",
                                    "tag_name": "by-women"
                                },
                                {
                                    "Tag_id": "1",
                                    "tag_id": "6267",
                                    "tag_name": "career-women"
                                },
                                {
                                    "Tag_id": "1",
                                    "tag_id": "7033",
                                    "tag_name": "chinese-women"
                                },
                                {
                                    "Tag_id": "1",
                                    "tag_id": "7195",
                                    "tag_name": "christian-women"
                                },
                                {
                                    "Tag_id": "1",
                                    "tag_id": "7332",
                                    "tag_name": "cis-women"
                                },
                                {
                                    "Tag_id": "1",
                                    "tag_id": "10308",
                                    "tag_name": "education-for-women"
                                },
                                {
                                    "Tag_id": "1",
                                    "tag_id": "11642",
                                    "tag_name": "female"
                                },
                                {
                                    "Tag_id": "1",
                                    "tag_id": "11643",
                                    "tag_name": "female-author"
                                },
                                {
                                    "Tag_id": "1",
                                    "tag_id": "11644",
                                    "tag_name": "female-authors"
                                },
                                {
                                    "Tag_id": "1",
                                    "tag_id": "11645",
                                    "tag_name": "female-biographies"
                                },
                                {
                                    "Tag_id": "1",
                                    "tag_id": "11646",
                                    "tag_name": "female-detective"
                                },
                                {
                                    "Tag_id": "1",
                                    "tag_id": "11647",
                                    "tag_name": "female-detectives"
                                },
                                {
                                    "Tag_id": "1",
                                    "tag_id": "11648",
                                    "tag_name": "female-doctor"
                                },
                                {
                                    "Tag_id": "1",
                                    "tag_id": "11649",
                                    "tag_name": "female-fiction"
                                },
                                {
                                    "Tag_id": "1",
                                    "tag_id": "11650",
                                    "tag_name": "female-friendship"
                                },
                                {
                                    "Tag_id": "1",
                                    "tag_id": "11651",
                                    "tag_name": "female-genre-authors"
                                },
                                {
                                    "Tag_id": "1",
                                    "tag_id": "11652",
                                    "tag_name": "female-lead"
                                },
                                {
                                    "Tag_id": "1",
                                    "tag_id": "11653",
                                    "tag_name": "female-main-character"
                                },
                                {
                                    "Tag_id": "1",
                                    "tag_id": "11654",
                                    "tag_name": "female-persuasion"
                                },
                                {
                                    "Tag_id": "1",
                                    "tag_id": "11655",
                                    "tag_name": "female-pi"
                                },
                                {
                                    "Tag_id": "1",
                                    "tag_id": "11656",
                                    "tag_name": "female-pov"
                                },
                                {
                                    "Tag_id": "1",
                                    "tag_id": "11657",
                                    "tag_name": "female-povs"
                                },
                                {
                                    "Tag_id": "1",
                                    "tag_id": "11658",
                                    "tag_name": "female-protagonist"
                                },
                                {
                                    "Tag_id": "1",
                                    "tag_id": "11659",
                                    "tag_name": "female-serial-killer"
                                },
                                {
                                    "Tag_id": "1",
                                    "tag_id": "11660",
                                    "tag_name": "female-spy"
                                },
                                {
                                    "Tag_id": "1",
                                    "tag_id": "11661",
                                    "tag_name": "female-writer"
                                },
                                {
                                    "Tag_id": "1",
                                    "tag_id": "11662",
                                    "tag_name": "female-writers"
                                },
                                {
                                    "Tag_id": "1",
                                    "tag_id": "12328",
                                    "tag_name": "for-women"
                                },
                                {
                                    "Tag_id": "1",
                                    "tag_id": "12601",
                                    "tag_name": "friendship-women"
                                },
                                {
                                    "Tag_id": "1",
                                    "tag_id": "12694",
                                    "tag_name": "funny-women"
                                },
                                {
                                    "Tag_id": "1",
                                    "tag_id": "13810",
                                    "tag_name": "gutsy-women"
                                },
                                {
                                    "Tag_id": "1",
                                    "tag_id": "14494",
                                    "tag_name": "historical-fiction-civil-war-women"
                                },
                                {
                                    "Tag_id": "1",
                                    "tag_id": "15331",
                                    "tag_name": "important-female-authors"
                                },
                                {
                                    "Tag_id": "1",
                                    "tag_id": "15869",
                                    "tag_name": "islamic-women"
                                },
                                {
                                    "Tag_id": "1",
                                    "tag_id": "16121",
                                    "tag_name": "james-patterson-women-s-murder-cl"
                                },
                                {
                                    "Tag_id": "1",
                                    "tag_id": "16122",
                                    "tag_name": "james-patterson-women-s-murder-club"
                                },
                                {
                                    "Tag_id": "1",
                                    "tag_id": "16123",
                                    "tag_name": "james-patterson-womens-murder-club"
                                },
                                {
                                    "Tag_id": "1",
                                    "tag_id": "17079",
                                    "tag_name": "kick-ass-female"
                                },
                                {
                                    "Tag_id": "1",
                                    "tag_id": "18423",
                                    "tag_name": "little-women"
                                },
                                {
                                    "Tag_id": "1",
                                    "tag_id": "19771",
                                    "tag_name": "men-women"
                                },
                                {
                                    "Tag_id": "1",
                                    "tag_id": "19772",
                                    "tag_name": "men-women-relations"
                                },
                                {
                                    "Tag_id": "1",
                                    "tag_id": "20722",
                                    "tag_name": "muslim-women"
                                },
                                {
                                    "Tag_id": "1",
                                    "tag_id": "22740",
                                    "tag_name": "own-written-by-women"
                                },
                                {
                                    "Tag_id": "1",
                                    "tag_id": "23124",
                                    "tag_name": "patterson-women-s-murder-club"
                                },
                                {
                                    "Tag_id": "1",
                                    "tag_id": "23125",
                                    "tag_name": "patterson-womens-murder-club"
                                },
                                {
                                    "Tag_id": "1",
                                    "tag_id": "23672",
                                    "tag_name": "pioneer-women"
                                },
                                {
                                    "Tag_id": "1",
                                    "tag_id": "23892",
                                    "tag_name": "policewomen"
                                },
                                {
                                    "Tag_id": "1",
                                    "tag_id": "24455",
                                    "tag_name": "protagonist-female"
                                },
                                {
                                    "Tag_id": "1",
                                    "tag_id": "25408",
                                    "tag_name": "readwomen2014"
                                },
                                {
                                    "Tag_id": "1",
                                    "tag_id": "25409",
                                    "tag_name": "readwomen2016"
                                },
                                {
                                    "Tag_id": "1",
                                    "tag_id": "27324",
                                    "tag_name": "series-women-of-the-otherworld"
                                },
                                {
                                    "Tag_id": "1",
                                    "tag_id": "27325",
                                    "tag_name": "series-womens-murder-club"
                                },
                                {
                                    "Tag_id": "1",
                                    "tag_id": "27824",
                                    "tag_name": "single-women"
                                },
                                {
                                    "Tag_id": "1",
                                    "tag_id": "28830",
                                    "tag_name": "strong-female"
                                },
                                {
                                    "Tag_id": "1",
                                    "tag_id": "28831",
                                    "tag_name": "strong-female-character"
                                },
                                {
                                    "Tag_id": "1",
                                    "tag_id": "28832",
                                    "tag_name": "strong-female-character-s"
                                },
                                {
                                    "Tag_id": "1",
                                    "tag_id": "28833",
                                    "tag_name": "strong-female-characters"
                                },
                                {
                                    "Tag_id": "1",
                                    "tag_id": "28834",
                                    "tag_name": "strong-female-lead"
                                },
                                {
                                    "Tag_id": "1",
                                    "tag_id": "28835",
                                    "tag_name": "strong-female-protagonist"
                                },
                                {
                                    "Tag_id": "1",
                                    "tag_id": "28836",
                                    "tag_name": "strong-female-supporting-characters"
                                },
                                {
                                    "Tag_id": "1",
                                    "tag_id": "28839",
                                    "tag_name": "strong-women"
                                },
                                {
                                    "Tag_id": "1",
                                    "tag_id": "29324",
                                    "tag_name": "tbr-ax-female"
                                },
                                {
                                    "Tag_id": "1",
                                    "tag_id": "29914",
                                    "tag_name": "the-life-of-women-in-royal-family-o"
                                },
                                {
                                    "Tag_id": "1",
                                    "tag_id": "32686",
                                    "tag_name": "women"
                                },
                                {
                                    "Tag_id": "1",
                                    "tag_id": "32687",
                                    "tag_name": "women-and-religion"
                                },
                                {
                                    "Tag_id": "1",
                                    "tag_id": "32688",
                                    "tag_name": "women-authors"
                                },
                                {
                                    "Tag_id": "1",
                                    "tag_id": "32689",
                                    "tag_name": "women-entrepeneurs"
                                },
                                {
                                    "Tag_id": "1",
                                    "tag_id": "32690",
                                    "tag_name": "women-feminism"
                                },
                                {
                                    "Tag_id": "1",
                                    "tag_id": "32691",
                                    "tag_name": "women-fiction"
                                },
                                {
                                    "Tag_id": "1",
                                    "tag_id": "32692",
                                    "tag_name": "women-friends"
                                },
                                {
                                    "Tag_id": "1",
                                    "tag_id": "32693",
                                    "tag_name": "women-friendships"
                                },
                                {
                                    "Tag_id": "1",
                                    "tag_id": "32694",
                                    "tag_name": "women-in-medicine"
                                },
                                {
                                    "Tag_id": "1",
                                    "tag_id": "32695",
                                    "tag_name": "women-in-translation"
                                },
                                {
                                    "Tag_id": "1",
                                    "tag_id": "32696",
                                    "tag_name": "women-in-war"
                                },
                                {
                                    "Tag_id": "1",
                                    "tag_id": "32697",
                                    "tag_name": "women-literature"
                                },
                                {
                                    "Tag_id": "1",
                                    "tag_id": "32698",
                                    "tag_name": "women-murder-club"
                                },
                                {
                                    "Tag_id": "1",
                                    "tag_id": "32699",
                                    "tag_name": "women-of-a-certain-age"
                                },
                                {
                                    "Tag_id": "1",
                                    "tag_id": "32700",
                                    "tag_name": "women-of-color"
                                },
                                {
                                    "Tag_id": "1",
                                    "tag_id": "32701",
                                    "tag_name": "women-of-faith"
                                },
                                {
                                    "Tag_id": "1",
                                    "tag_id": "32702",
                                    "tag_name": "women-of-the-otherworld"
                                },
                                {
                                    "Tag_id": "1",
                                    "tag_id": "32703",
                                    "tag_name": "women-of-the-otherworld-series"
                                },
                                {
                                    "Tag_id": "1",
                                    "tag_id": "32704",
                                    "tag_name": "women-of-the-underworld"
                                },
                                {
                                    "Tag_id": "1",
                                    "tag_id": "32705",
                                    "tag_name": "women-read"
                                },
                                {
                                    "Tag_id": "1",
                                    "tag_id": "32706",
                                    "tag_name": "women-s"
                                },
                                {
                                    "Tag_id": "1",
                                    "tag_id": "32707",
                                    "tag_name": "women-s-bible-study"
                                },
                                {
                                    "Tag_id": "1",
                                    "tag_id": "32708",
                                    "tag_name": "women-s-fiction"
                                },
                                {
                                    "Tag_id": "1",
                                    "tag_id": "32709",
                                    "tag_name": "women-s-health"
                                },
                                {
                                    "Tag_id": "1",
                                    "tag_id": "32710",
                                    "tag_name": "women-s-history"
                                },
                                {
                                    "Tag_id": "1",
                                    "tag_id": "32711",
                                    "tag_name": "women-s-issues"
                                },
                                {
                                    "Tag_id": "1",
                                    "tag_id": "32712",
                                    "tag_name": "women-s-lit"
                                },
                                {
                                    "Tag_id": "1",
                                    "tag_id": "32713",
                                    "tag_name": "women-s-literature"
                                },
                                {
                                    "Tag_id": "1",
                                    "tag_id": "32714",
                                    "tag_name": "women-s-ministry"
                                },
                                {
                                    "Tag_id": "1",
                                    "tag_id": "32715",
                                    "tag_name": "women-s-murder"
                                },
                                {
                                    "Tag_id": "1",
                                    "tag_id": "32716",
                                    "tag_name": "women-s-murder-club"
                                },
                                {
                                    "Tag_id": "1",
                                    "tag_id": "32717",
                                    "tag_name": "women-s-murder-club-series"
                                },
                                {
                                    "Tag_id": "1",
                                    "tag_id": "32718",
                                    "tag_name": "women-s-prize-for-fiction"
                                },
                                {
                                    "Tag_id": "1",
                                    "tag_id": "32719",
                                    "tag_name": "women-s-rights"
                                },
                                {
                                    "Tag_id": "1",
                                    "tag_id": "32720",
                                    "tag_name": "women-s-studies"
                                },
                                {
                                    "Tag_id": "1",
                                    "tag_id": "32721",
                                    "tag_name": "women-studies"
                                },
                                {
                                    "Tag_id": "1",
                                    "tag_id": "32722",
                                    "tag_name": "women-words-wine"
                                },
                                {
                                    "Tag_id": "1",
                                    "tag_id": "32723",
                                    "tag_name": "women-write-big-books"
                                },
                                {
                                    "Tag_id": "1",
                                    "tag_id": "32724",
                                    "tag_name": "women-writers"
                                },
                                {
                                    "Tag_id": "1",
                                    "tag_id": "32725",
                                    "tag_name": "womens"
                                },
                                {
                                    "Tag_id": "1",
                                    "tag_id": "32726",
                                    "tag_name": "womens-fiction"
                                },
                                {
                                    "Tag_id": "1",
                                    "tag_id": "32727",
                                    "tag_name": "womens-fiction-chick-lit"
                                },
                                {
                                    "Tag_id": "1",
                                    "tag_id": "32728",
                                    "tag_name": "womens-health"
                                },
                                {
                                    "Tag_id": "1",
                                    "tag_id": "32729",
                                    "tag_name": "womens-issues"
                                },
                                {
                                    "Tag_id": "1",
                                    "tag_id": "32730",
                                    "tag_name": "womens-lit"
                                },
                                {
                                    "Tag_id": "1",
                                    "tag_id": "32731",
                                    "tag_name": "womens-lit-to-read"
                                },
                                {
                                    "Tag_id": "1",
                                    "tag_id": "32732",
                                    "tag_name": "womens-murder-club"
                                },
                                {
                                    "Tag_id": "1",
                                    "tag_id": "32733",
                                    "tag_name": "womens-murder-club-series"
                                },
                                {
                                    "Tag_id": "1",
                                    "tag_id": "32734",
                                    "tag_name": "womens-stories"
                                },
                                {
                                    "Tag_id": "1",
                                    "tag_id": "32735",
                                    "tag_name": "womens-studies"
                                }
                            ]
                        },
                        "text/html": [
                            "<table>",
                            "<tr><th>Tag_id</th><th>tag_id</th><th>tag_name</th></tr>",
                            "<tr><td>1</td><td>452</td><td>1960s-women-s-status</td></tr>",
                            "<tr><td>1</td><td>891</td><td>2017-read-women</td></tr>",
                            "<tr><td>1</td><td>1082</td><td>4-women-intertwined-stories</td></tr>",
                            "<tr><td>1</td><td>1149</td><td>500-women</td></tr>",
                            "<tr><td>1</td><td>1503</td><td>abused-women</td></tr>",
                            "<tr><td>1</td><td>1741</td><td>afghan-female-entrepreneur-under-ta</td></tr>",
                            "<tr><td>1</td><td>2824</td><td>arab-women</td></tr>",
                            "<tr><td>1</td><td>3162</td><td>artist-women-bio</td></tr>",
                            "<tr><td>1</td><td>3476</td><td>australian-women-writers</td></tr>",
                            "<tr><td>1</td><td>3514</td><td>author-female</td></tr>",
                            "<tr><td>1</td><td>4309</td><td>best-adult-female-friendship-books</td></tr>",
                            "<tr><td>1</td><td>4603</td><td>biographies-of-women</td></tr>",
                            "<tr><td>1</td><td>4622</td><td>biography-women</td></tr>",
                            "<tr><td>1</td><td>5129</td><td>books-by-women</td></tr>",
                            "<tr><td>1</td><td>6038</td><td>by-women</td></tr>",
                            "<tr><td>1</td><td>6267</td><td>career-women</td></tr>",
                            "<tr><td>1</td><td>7033</td><td>chinese-women</td></tr>",
                            "<tr><td>1</td><td>7195</td><td>christian-women</td></tr>",
                            "<tr><td>1</td><td>7332</td><td>cis-women</td></tr>",
                            "<tr><td>1</td><td>10308</td><td>education-for-women</td></tr>",
                            "<tr><td>1</td><td>11642</td><td>female</td></tr>",
                            "<tr><td>1</td><td>11643</td><td>female-author</td></tr>",
                            "<tr><td>1</td><td>11644</td><td>female-authors</td></tr>",
                            "<tr><td>1</td><td>11645</td><td>female-biographies</td></tr>",
                            "<tr><td>1</td><td>11646</td><td>female-detective</td></tr>",
                            "<tr><td>1</td><td>11647</td><td>female-detectives</td></tr>",
                            "<tr><td>1</td><td>11648</td><td>female-doctor</td></tr>",
                            "<tr><td>1</td><td>11649</td><td>female-fiction</td></tr>",
                            "<tr><td>1</td><td>11650</td><td>female-friendship</td></tr>",
                            "<tr><td>1</td><td>11651</td><td>female-genre-authors</td></tr>",
                            "<tr><td>1</td><td>11652</td><td>female-lead</td></tr>",
                            "<tr><td>1</td><td>11653</td><td>female-main-character</td></tr>",
                            "<tr><td>1</td><td>11654</td><td>female-persuasion</td></tr>",
                            "<tr><td>1</td><td>11655</td><td>female-pi</td></tr>",
                            "<tr><td>1</td><td>11656</td><td>female-pov</td></tr>",
                            "<tr><td>1</td><td>11657</td><td>female-povs</td></tr>",
                            "<tr><td>1</td><td>11658</td><td>female-protagonist</td></tr>",
                            "<tr><td>1</td><td>11659</td><td>female-serial-killer</td></tr>",
                            "<tr><td>1</td><td>11660</td><td>female-spy</td></tr>",
                            "<tr><td>1</td><td>11661</td><td>female-writer</td></tr>",
                            "<tr><td>1</td><td>11662</td><td>female-writers</td></tr>",
                            "<tr><td>1</td><td>12328</td><td>for-women</td></tr>",
                            "<tr><td>1</td><td>12601</td><td>friendship-women</td></tr>",
                            "<tr><td>1</td><td>12694</td><td>funny-women</td></tr>",
                            "<tr><td>1</td><td>13810</td><td>gutsy-women</td></tr>",
                            "<tr><td>1</td><td>14494</td><td>historical-fiction-civil-war-women</td></tr>",
                            "<tr><td>1</td><td>15331</td><td>important-female-authors</td></tr>",
                            "<tr><td>1</td><td>15869</td><td>islamic-women</td></tr>",
                            "<tr><td>1</td><td>16121</td><td>james-patterson-women-s-murder-cl</td></tr>",
                            "<tr><td>1</td><td>16122</td><td>james-patterson-women-s-murder-club</td></tr>",
                            "<tr><td>1</td><td>16123</td><td>james-patterson-womens-murder-club</td></tr>",
                            "<tr><td>1</td><td>17079</td><td>kick-ass-female</td></tr>",
                            "<tr><td>1</td><td>18423</td><td>little-women</td></tr>",
                            "<tr><td>1</td><td>19771</td><td>men-women</td></tr>",
                            "<tr><td>1</td><td>19772</td><td>men-women-relations</td></tr>",
                            "<tr><td>1</td><td>20722</td><td>muslim-women</td></tr>",
                            "<tr><td>1</td><td>22740</td><td>own-written-by-women</td></tr>",
                            "<tr><td>1</td><td>23124</td><td>patterson-women-s-murder-club</td></tr>",
                            "<tr><td>1</td><td>23125</td><td>patterson-womens-murder-club</td></tr>",
                            "<tr><td>1</td><td>23672</td><td>pioneer-women</td></tr>",
                            "<tr><td>1</td><td>23892</td><td>policewomen</td></tr>",
                            "<tr><td>1</td><td>24455</td><td>protagonist-female</td></tr>",
                            "<tr><td>1</td><td>25408</td><td>readwomen2014</td></tr>",
                            "<tr><td>1</td><td>25409</td><td>readwomen2016</td></tr>",
                            "<tr><td>1</td><td>27324</td><td>series-women-of-the-otherworld</td></tr>",
                            "<tr><td>1</td><td>27325</td><td>series-womens-murder-club</td></tr>",
                            "<tr><td>1</td><td>27824</td><td>single-women</td></tr>",
                            "<tr><td>1</td><td>28830</td><td>strong-female</td></tr>",
                            "<tr><td>1</td><td>28831</td><td>strong-female-character</td></tr>",
                            "<tr><td>1</td><td>28832</td><td>strong-female-character-s</td></tr>",
                            "<tr><td>1</td><td>28833</td><td>strong-female-characters</td></tr>",
                            "<tr><td>1</td><td>28834</td><td>strong-female-lead</td></tr>",
                            "<tr><td>1</td><td>28835</td><td>strong-female-protagonist</td></tr>",
                            "<tr><td>1</td><td>28836</td><td>strong-female-supporting-characters</td></tr>",
                            "<tr><td>1</td><td>28839</td><td>strong-women</td></tr>",
                            "<tr><td>1</td><td>29324</td><td>tbr-ax-female</td></tr>",
                            "<tr><td>1</td><td>29914</td><td>the-life-of-women-in-royal-family-o</td></tr>",
                            "<tr><td>1</td><td>32686</td><td>women</td></tr>",
                            "<tr><td>1</td><td>32687</td><td>women-and-religion</td></tr>",
                            "<tr><td>1</td><td>32688</td><td>women-authors</td></tr>",
                            "<tr><td>1</td><td>32689</td><td>women-entrepeneurs</td></tr>",
                            "<tr><td>1</td><td>32690</td><td>women-feminism</td></tr>",
                            "<tr><td>1</td><td>32691</td><td>women-fiction</td></tr>",
                            "<tr><td>1</td><td>32692</td><td>women-friends</td></tr>",
                            "<tr><td>1</td><td>32693</td><td>women-friendships</td></tr>",
                            "<tr><td>1</td><td>32694</td><td>women-in-medicine</td></tr>",
                            "<tr><td>1</td><td>32695</td><td>women-in-translation</td></tr>",
                            "<tr><td>1</td><td>32696</td><td>women-in-war</td></tr>",
                            "<tr><td>1</td><td>32697</td><td>women-literature</td></tr>",
                            "<tr><td>1</td><td>32698</td><td>women-murder-club</td></tr>",
                            "<tr><td>1</td><td>32699</td><td>women-of-a-certain-age</td></tr>",
                            "<tr><td>1</td><td>32700</td><td>women-of-color</td></tr>",
                            "<tr><td>1</td><td>32701</td><td>women-of-faith</td></tr>",
                            "<tr><td>1</td><td>32702</td><td>women-of-the-otherworld</td></tr>",
                            "<tr><td>1</td><td>32703</td><td>women-of-the-otherworld-series</td></tr>",
                            "<tr><td>1</td><td>32704</td><td>women-of-the-underworld</td></tr>",
                            "<tr><td>1</td><td>32705</td><td>women-read</td></tr>",
                            "<tr><td>1</td><td>32706</td><td>women-s</td></tr>",
                            "<tr><td>1</td><td>32707</td><td>women-s-bible-study</td></tr>",
                            "<tr><td>1</td><td>32708</td><td>women-s-fiction</td></tr>",
                            "<tr><td>1</td><td>32709</td><td>women-s-health</td></tr>",
                            "<tr><td>1</td><td>32710</td><td>women-s-history</td></tr>",
                            "<tr><td>1</td><td>32711</td><td>women-s-issues</td></tr>",
                            "<tr><td>1</td><td>32712</td><td>women-s-lit</td></tr>",
                            "<tr><td>1</td><td>32713</td><td>women-s-literature</td></tr>",
                            "<tr><td>1</td><td>32714</td><td>women-s-ministry</td></tr>",
                            "<tr><td>1</td><td>32715</td><td>women-s-murder</td></tr>",
                            "<tr><td>1</td><td>32716</td><td>women-s-murder-club</td></tr>",
                            "<tr><td>1</td><td>32717</td><td>women-s-murder-club-series</td></tr>",
                            "<tr><td>1</td><td>32718</td><td>women-s-prize-for-fiction</td></tr>",
                            "<tr><td>1</td><td>32719</td><td>women-s-rights</td></tr>",
                            "<tr><td>1</td><td>32720</td><td>women-s-studies</td></tr>",
                            "<tr><td>1</td><td>32721</td><td>women-studies</td></tr>",
                            "<tr><td>1</td><td>32722</td><td>women-words-wine</td></tr>",
                            "<tr><td>1</td><td>32723</td><td>women-write-big-books</td></tr>",
                            "<tr><td>1</td><td>32724</td><td>women-writers</td></tr>",
                            "<tr><td>1</td><td>32725</td><td>womens</td></tr>",
                            "<tr><td>1</td><td>32726</td><td>womens-fiction</td></tr>",
                            "<tr><td>1</td><td>32727</td><td>womens-fiction-chick-lit</td></tr>",
                            "<tr><td>1</td><td>32728</td><td>womens-health</td></tr>",
                            "<tr><td>1</td><td>32729</td><td>womens-issues</td></tr>",
                            "<tr><td>1</td><td>32730</td><td>womens-lit</td></tr>",
                            "<tr><td>1</td><td>32731</td><td>womens-lit-to-read</td></tr>",
                            "<tr><td>1</td><td>32732</td><td>womens-murder-club</td></tr>",
                            "<tr><td>1</td><td>32733</td><td>womens-murder-club-series</td></tr>",
                            "<tr><td>1</td><td>32734</td><td>womens-stories</td></tr>",
                            "<tr><td>1</td><td>32735</td><td>womens-studies</td></tr>",
                            "</table>"
                        ]
                    }
                }
            ],
            "execution_count": 1
        },
        {
            "cell_type": "markdown",
            "source": [
                "### **Which keyword(s) and tag(s) would you like to explore more?**\n",
                "\n",
                "Double click to edit.\n",
                "\n",
                "Female or Women"
            ],
            "metadata": {
                "azdata_cell_guid": "e9acd8b5-a62b-4ac0-bd07-19915b379ba6"
            },
            "attachments": {}
        },
        {
            "cell_type": "markdown",
            "source": [
                "### **Write a query to return authors, titles, ratings and** **selected tag(s)\\_id.**"
            ],
            "metadata": {
                "azdata_cell_guid": "59b84464-c0bc-4dac-9e02-0c803765b063"
            },
            "attachments": {}
        },
        {
            "cell_type": "code",
            "source": [
                "-- Solution\r\n",
                "select b.authors,b.title, r.rating, t.tag_id, t.tag_name\r\n",
                "from BooksDB.dbo.books as b \r\n",
                "full outer join BooksDB.dbo.ratings as r \r\n",
                "on b.book_id = r.book_id\r\n",
                "inner join BooksDB.dbo.tags as t\r\n",
                "on b.book_id = t.tag_id\r\n",
                "where title is not null and authors is not NULL \r\n",
                "group by  tag_id,tag_name,b.authors,b.title, r.rating\r\n",
                "having tag_name like '%female%' or tag_name like '%women%'\r\n",
                "order by r.rating desc\r\n",
                ""
            ],
            "metadata": {
                "azdata_cell_guid": "51ffeaaf-6dde-4906-95f3-eb8757babf27",
                "tags": [],
                "language": "sql"
            },
            "outputs": [
                {
                    "output_type": "display_data",
                    "data": {
                        "text/html": "(18 rows affected)"
                    },
                    "metadata": {}
                },
                {
                    "output_type": "display_data",
                    "data": {
                        "text/html": "Total execution time: 00:00:00.240"
                    },
                    "metadata": {}
                },
                {
                    "output_type": "execute_result",
                    "metadata": {},
                    "execution_count": 2,
                    "data": {
                        "application/vnd.dataresource+json": {
                            "schema": {
                                "fields": [
                                    {
                                        "name": "authors"
                                    },
                                    {
                                        "name": "title"
                                    },
                                    {
                                        "name": "rating"
                                    },
                                    {
                                        "name": "tag_id"
                                    },
                                    {
                                        "name": "tag_name"
                                    }
                                ]
                            },
                            "data": [
                                {
                                    "authors": "Gwyn Hyman Rubio",
                                    "title": "Icy Sparks",
                                    "rating": "5",
                                    "tag_id": "3476",
                                    "tag_name": "australian-women-writers"
                                },
                                {
                                    "authors": "Aldous Huxley",
                                    "title": "Brave New World",
                                    "rating": "5",
                                    "tag_id": "5129",
                                    "tag_name": "books-by-women"
                                },
                                {
                                    "authors": "J.R.R. Tolkien, Christopher Tolkien, Ted Nasmith",
                                    "title": "The Silmarillion (Middle-Earth Universe)",
                                    "rating": "5",
                                    "tag_id": "7332",
                                    "tag_name": "cis-women"
                                },
                                {
                                    "authors": "Gwyn Hyman Rubio",
                                    "title": "Icy Sparks",
                                    "rating": "4",
                                    "tag_id": "3476",
                                    "tag_name": "australian-women-writers"
                                },
                                {
                                    "authors": "Aldous Huxley",
                                    "title": "Brave New World",
                                    "rating": "4",
                                    "tag_id": "5129",
                                    "tag_name": "books-by-women"
                                },
                                {
                                    "authors": "J.R.R. Tolkien, Christopher Tolkien, Ted Nasmith",
                                    "title": "The Silmarillion (Middle-Earth Universe)",
                                    "rating": "4",
                                    "tag_id": "7332",
                                    "tag_name": "cis-women"
                                },
                                {
                                    "authors": "Gwyn Hyman Rubio",
                                    "title": "Icy Sparks",
                                    "rating": "3",
                                    "tag_id": "3476",
                                    "tag_name": "australian-women-writers"
                                },
                                {
                                    "authors": "Aldous Huxley",
                                    "title": "Brave New World",
                                    "rating": "3",
                                    "tag_id": "5129",
                                    "tag_name": "books-by-women"
                                },
                                {
                                    "authors": "J.R.R. Tolkien, Christopher Tolkien, Ted Nasmith",
                                    "title": "The Silmarillion (Middle-Earth Universe)",
                                    "rating": "3",
                                    "tag_id": "7332",
                                    "tag_name": "cis-women"
                                },
                                {
                                    "authors": "Gwyn Hyman Rubio",
                                    "title": "Icy Sparks",
                                    "rating": "2",
                                    "tag_id": "3476",
                                    "tag_name": "australian-women-writers"
                                },
                                {
                                    "authors": "Aldous Huxley",
                                    "title": "Brave New World",
                                    "rating": "2",
                                    "tag_id": "5129",
                                    "tag_name": "books-by-women"
                                },
                                {
                                    "authors": "J.R.R. Tolkien, Christopher Tolkien, Ted Nasmith",
                                    "title": "The Silmarillion (Middle-Earth Universe)",
                                    "rating": "2",
                                    "tag_id": "7332",
                                    "tag_name": "cis-women"
                                },
                                {
                                    "authors": "Gwyn Hyman Rubio",
                                    "title": "Icy Sparks",
                                    "rating": "1",
                                    "tag_id": "3476",
                                    "tag_name": "australian-women-writers"
                                },
                                {
                                    "authors": "J.R.R. Tolkien, Christopher Tolkien, Ted Nasmith",
                                    "title": "The Silmarillion (Middle-Earth Universe)",
                                    "rating": "1",
                                    "tag_id": "7332",
                                    "tag_name": "cis-women"
                                },
                                {
                                    "authors": "Philip Roth",
                                    "title": "American Pastoral (The American Trilogy, #1)",
                                    "rating": "NULL",
                                    "tag_id": "11650",
                                    "tag_name": "female-friendship"
                                },
                                {
                                    "authors": "Raymond E. Feist",
                                    "title": "Magician: Master (The Riftwar Saga, #2)",
                                    "rating": "NULL",
                                    "tag_id": "13810",
                                    "tag_name": "gutsy-women"
                                },
                                {
                                    "authors": "Ursula K. Le Guin, Lech Jęczmyk",
                                    "title": "The Left Hand of Darkness",
                                    "rating": "NULL",
                                    "tag_id": "18423",
                                    "tag_name": "little-women"
                                },
                                {
                                    "authors": "Stephen King",
                                    "title": "Gerald's Game",
                                    "rating": "NULL",
                                    "tag_id": "32692",
                                    "tag_name": "women-friends"
                                }
                            ]
                        },
                        "text/html": [
                            "<table>",
                            "<tr><th>authors</th><th>title</th><th>rating</th><th>tag_id</th><th>tag_name</th></tr>",
                            "<tr><td>Gwyn Hyman Rubio</td><td>Icy Sparks</td><td>5</td><td>3476</td><td>australian-women-writers</td></tr>",
                            "<tr><td>Aldous Huxley</td><td>Brave New World</td><td>5</td><td>5129</td><td>books-by-women</td></tr>",
                            "<tr><td>J.R.R. Tolkien, Christopher Tolkien, Ted Nasmith</td><td>The Silmarillion (Middle-Earth Universe)</td><td>5</td><td>7332</td><td>cis-women</td></tr>",
                            "<tr><td>Gwyn Hyman Rubio</td><td>Icy Sparks</td><td>4</td><td>3476</td><td>australian-women-writers</td></tr>",
                            "<tr><td>Aldous Huxley</td><td>Brave New World</td><td>4</td><td>5129</td><td>books-by-women</td></tr>",
                            "<tr><td>J.R.R. Tolkien, Christopher Tolkien, Ted Nasmith</td><td>The Silmarillion (Middle-Earth Universe)</td><td>4</td><td>7332</td><td>cis-women</td></tr>",
                            "<tr><td>Gwyn Hyman Rubio</td><td>Icy Sparks</td><td>3</td><td>3476</td><td>australian-women-writers</td></tr>",
                            "<tr><td>Aldous Huxley</td><td>Brave New World</td><td>3</td><td>5129</td><td>books-by-women</td></tr>",
                            "<tr><td>J.R.R. Tolkien, Christopher Tolkien, Ted Nasmith</td><td>The Silmarillion (Middle-Earth Universe)</td><td>3</td><td>7332</td><td>cis-women</td></tr>",
                            "<tr><td>Gwyn Hyman Rubio</td><td>Icy Sparks</td><td>2</td><td>3476</td><td>australian-women-writers</td></tr>",
                            "<tr><td>Aldous Huxley</td><td>Brave New World</td><td>2</td><td>5129</td><td>books-by-women</td></tr>",
                            "<tr><td>J.R.R. Tolkien, Christopher Tolkien, Ted Nasmith</td><td>The Silmarillion (Middle-Earth Universe)</td><td>2</td><td>7332</td><td>cis-women</td></tr>",
                            "<tr><td>Gwyn Hyman Rubio</td><td>Icy Sparks</td><td>1</td><td>3476</td><td>australian-women-writers</td></tr>",
                            "<tr><td>J.R.R. Tolkien, Christopher Tolkien, Ted Nasmith</td><td>The Silmarillion (Middle-Earth Universe)</td><td>1</td><td>7332</td><td>cis-women</td></tr>",
                            "<tr><td>Philip Roth</td><td>American Pastoral (The American Trilogy, #1)</td><td>NULL</td><td>11650</td><td>female-friendship</td></tr>",
                            "<tr><td>Raymond E. Feist</td><td>Magician: Master (The Riftwar Saga, #2)</td><td>NULL</td><td>13810</td><td>gutsy-women</td></tr>",
                            "<tr><td>Ursula K. Le Guin, Lech Jęczmyk</td><td>The Left Hand of Darkness</td><td>NULL</td><td>18423</td><td>little-women</td></tr>",
                            "<tr><td>Stephen King</td><td>Gerald&#39;s Game</td><td>NULL</td><td>32692</td><td>women-friends</td></tr>",
                            "</table>"
                        ]
                    }
                }
            ],
            "execution_count": 2
        },
        {
            "cell_type": "markdown",
            "source": [
                "### **Record your thoughts about why you wrote the query the way you did.**"
            ],
            "metadata": {
                "azdata_cell_guid": "1e19a72c-1bca-446b-a0c7-a8efbc35dcf1"
            },
            "attachments": {}
        },
        {
            "cell_type": "markdown",
            "source": [
                "# Part 2: Choose Another Month\n",
                "\n",
                "Choose another month and plan at least 2 events / promotions and answer the following questions.\n",
                "\n",
                "Which month did you choose?  \n",
                "\n",
                "What 2 events / promotions are you highlighting?\n",
                "\n",
                "> 1. December month- Christmas\n",
                "\n",
                "> 2. October month - Halloween day"
            ],
            "metadata": {
                "azdata_cell_guid": "3eaf376d-9de3-4553-a9d0-9caf74ee3d6a"
            },
            "attachments": {}
        },
        {
            "cell_type": "markdown",
            "source": [
                "# Part 3: Summarize your Work\n",
                "\n",
                "For each event write at least one query that joins any two tables in the BooksDB to support your choice and record you thoughts as to why you used the paticlular query. At least one of your queries needs to include a HAVING clause."
            ],
            "metadata": {
                "azdata_cell_guid": "1ba1363a-4f02-4962-a95a-93b80c5926b1"
            },
            "attachments": {}
        },
        {
            "cell_type": "code",
            "source": [
                "-- Event 1 Query\r\n",
                "-- What are the christmas related books does most users  likes  to read, ordered by count of user liked to read?\r\n",
                "\r\n",
                "select b.book_id, b.title, t.tag_name , t.tag_id, count(tr.user_id) as user_count_to_read, tr.book_id\r\n",
                "from BooksDB.dbo.books as b\r\n",
                "full outer join BooksDB.dbo.tags as t\r\n",
                "on  b.book_id = t.tag_id \r\n",
                "inner join BooksDB.dbo.to_read as tr\r\n",
                "on b.book_id = tr.book_id\r\n",
                "where (b.title like '%christ%' or t.tag_name like '%christ%') and b.title is not null\r\n",
                "group by b.book_id, b.title, t.tag_name , t.tag_id, tr.book_id\r\n",
                "having count(tr.book_id) > 0\r\n",
                "order by count(tr.book_id)  desc"
            ],
            "metadata": {
                "azdata_cell_guid": "f50d32ce-4cb2-4af2-acb1-607777a76cf8",
                "language": "sql"
            },
            "outputs": [
                {
                    "output_type": "display_data",
                    "data": {
                        "text/html": "(20 rows affected)"
                    },
                    "metadata": {}
                },
                {
                    "output_type": "display_data",
                    "data": {
                        "text/html": "Total execution time: 00:00:00.218"
                    },
                    "metadata": {}
                },
                {
                    "output_type": "execute_result",
                    "metadata": {},
                    "execution_count": 3,
                    "data": {
                        "application/vnd.dataresource+json": {
                            "schema": {
                                "fields": [
                                    {
                                        "name": "book_id"
                                    },
                                    {
                                        "name": "title"
                                    },
                                    {
                                        "name": "tag_name"
                                    },
                                    {
                                        "name": "tag_id"
                                    },
                                    {
                                        "name": "user_count_to_read"
                                    },
                                    {
                                        "name": "book_id"
                                    }
                                ]
                            },
                            "data": [
                                {
                                    "book_id": "7199",
                                    "title": "The Way the Crow Flies",
                                    "tag_name": "christian_life",
                                    "tag_id": "7199",
                                    "user_count_to_read": "108"
                                },
                                {
                                    "book_id": "3873",
                                    "title": "A History of God: The 4,000-Year Quest of Judaism, Christianity, and Islam",
                                    "tag_name": "bank-foreclosures",
                                    "tag_id": "3873",
                                    "user_count_to_read": "67"
                                },
                                {
                                    "book_id": "7190",
                                    "title": "The Three Musketeers",
                                    "tag_name": "christian-titles",
                                    "tag_id": "7190",
                                    "user_count_to_read": "64"
                                },
                                {
                                    "book_id": "7082",
                                    "title": "Do Androids Dream of Electric Sheep?",
                                    "tag_name": "christian-author",
                                    "tag_id": "7082",
                                    "user_count_to_read": "60"
                                },
                                {
                                    "book_id": "5326",
                                    "title": "A Christmas Carol",
                                    "tag_name": "books-on-tape",
                                    "tag_id": "5326",
                                    "user_count_to_read": "55"
                                },
                                {
                                    "book_id": "7194",
                                    "title": "The Club Dumas",
                                    "tag_name": "christian-woman",
                                    "tag_id": "7194",
                                    "user_count_to_read": "50"
                                },
                                {
                                    "book_id": "7244",
                                    "title": "The Poisonwood Bible",
                                    "tag_name": "christmas-story",
                                    "tag_id": "7244",
                                    "user_count_to_read": "47"
                                },
                                {
                                    "book_id": "7186",
                                    "title": "La Dame aux Camélias",
                                    "tag_name": "christian-theology",
                                    "tag_id": "7186",
                                    "user_count_to_read": "43"
                                },
                                {
                                    "book_id": "5338",
                                    "title": "A Christmas Carol and Other Christmas Writings",
                                    "tag_name": "books-read-2013",
                                    "tag_id": "5338",
                                    "user_count_to_read": "41"
                                },
                                {
                                    "book_id": "7252",
                                    "title": "How to Make Love Like a Porn Star: A Cautionary Tale",
                                    "tag_name": "christopher-buckley",
                                    "tag_id": "7252",
                                    "user_count_to_read": "31"
                                },
                                {
                                    "book_id": "7184",
                                    "title": "Twenty Years After (The D'Artagnan Romances, #2)",
                                    "tag_name": "christian-theme",
                                    "tag_id": "7184",
                                    "user_count_to_read": "27"
                                },
                                {
                                    "book_id": "7073",
                                    "title": "A Son of the Circus",
                                    "tag_name": "christ-as-human",
                                    "tag_id": "7073",
                                    "user_count_to_read": "26"
                                },
                                {
                                    "book_id": "7081",
                                    "title": "The Android's Dream",
                                    "tag_name": "christian-askar",
                                    "tag_id": "7081",
                                    "user_count_to_read": "24"
                                },
                                {
                                    "book_id": "6870",
                                    "title": "Enduring Love",
                                    "tag_name": "children-christmas",
                                    "tag_id": "6870",
                                    "user_count_to_read": "22"
                                },
                                {
                                    "book_id": "7214",
                                    "title": "Blue Like Jazz: Nonreligious Thoughts on Christian Spirituality",
                                    "tag_name": "christie-agatha",
                                    "tag_id": "7214",
                                    "user_count_to_read": "22"
                                },
                                {
                                    "book_id": "7144",
                                    "title": "Crime and Punishment",
                                    "tag_name": "christian-literature",
                                    "tag_id": "7144",
                                    "user_count_to_read": "22"
                                },
                                {
                                    "book_id": "4325",
                                    "title": "Dreamland",
                                    "tag_name": "best-christian-fiction",
                                    "tag_id": "4325",
                                    "user_count_to_read": "15"
                                },
                                {
                                    "book_id": "7201",
                                    "title": "As the Crow Flies",
                                    "tag_name": "christiane-f",
                                    "tag_id": "7201",
                                    "user_count_to_read": "10"
                                },
                                {
                                    "book_id": "5357",
                                    "title": "Skipping Christmas",
                                    "tag_name": "books-read-in-2012",
                                    "tag_id": "5357",
                                    "user_count_to_read": "7"
                                },
                                {
                                    "book_id": "7126",
                                    "title": "The Count of Monte Cristo",
                                    "tag_name": "christian-growth",
                                    "tag_id": "7126",
                                    "user_count_to_read": "7"
                                }
                            ]
                        },
                        "text/html": [
                            "<table>",
                            "<tr><th>book_id</th><th>title</th><th>tag_name</th><th>tag_id</th><th>user_count_to_read</th><th>book_id</th></tr>",
                            "<tr><td>7199</td><td>The Way the Crow Flies</td><td>christian_life</td><td>7199</td><td>108</td><td>7199</td></tr>",
                            "<tr><td>3873</td><td>A History of God: The 4,000-Year Quest of Judaism, Christianity, and Islam</td><td>bank-foreclosures</td><td>3873</td><td>67</td><td>3873</td></tr>",
                            "<tr><td>7190</td><td>The Three Musketeers</td><td>christian-titles</td><td>7190</td><td>64</td><td>7190</td></tr>",
                            "<tr><td>7082</td><td>Do Androids Dream of Electric Sheep?</td><td>christian-author</td><td>7082</td><td>60</td><td>7082</td></tr>",
                            "<tr><td>5326</td><td>A Christmas Carol</td><td>books-on-tape</td><td>5326</td><td>55</td><td>5326</td></tr>",
                            "<tr><td>7194</td><td>The Club Dumas</td><td>christian-woman</td><td>7194</td><td>50</td><td>7194</td></tr>",
                            "<tr><td>7244</td><td>The Poisonwood Bible</td><td>christmas-story</td><td>7244</td><td>47</td><td>7244</td></tr>",
                            "<tr><td>7186</td><td>La Dame aux Camélias</td><td>christian-theology</td><td>7186</td><td>43</td><td>7186</td></tr>",
                            "<tr><td>5338</td><td>A Christmas Carol and Other Christmas Writings</td><td>books-read-2013</td><td>5338</td><td>41</td><td>5338</td></tr>",
                            "<tr><td>7252</td><td>How to Make Love Like a Porn Star: A Cautionary Tale</td><td>christopher-buckley</td><td>7252</td><td>31</td><td>7252</td></tr>",
                            "<tr><td>7184</td><td>Twenty Years After (The D&#39;Artagnan Romances, #2)</td><td>christian-theme</td><td>7184</td><td>27</td><td>7184</td></tr>",
                            "<tr><td>7073</td><td>A Son of the Circus</td><td>christ-as-human</td><td>7073</td><td>26</td><td>7073</td></tr>",
                            "<tr><td>7081</td><td>The Android&#39;s Dream</td><td>christian-askar</td><td>7081</td><td>24</td><td>7081</td></tr>",
                            "<tr><td>6870</td><td>Enduring Love</td><td>children-christmas</td><td>6870</td><td>22</td><td>6870</td></tr>",
                            "<tr><td>7214</td><td>Blue Like Jazz: Nonreligious Thoughts on Christian Spirituality</td><td>christie-agatha</td><td>7214</td><td>22</td><td>7214</td></tr>",
                            "<tr><td>7144</td><td>Crime and Punishment</td><td>christian-literature</td><td>7144</td><td>22</td><td>7144</td></tr>",
                            "<tr><td>4325</td><td>Dreamland</td><td>best-christian-fiction</td><td>4325</td><td>15</td><td>4325</td></tr>",
                            "<tr><td>7201</td><td>As the Crow Flies</td><td>christiane-f</td><td>7201</td><td>10</td><td>7201</td></tr>",
                            "<tr><td>5357</td><td>Skipping Christmas</td><td>books-read-in-2012</td><td>5357</td><td>7</td><td>5357</td></tr>",
                            "<tr><td>7126</td><td>The Count of Monte Cristo</td><td>christian-growth</td><td>7126</td><td>7</td><td>7126</td></tr>",
                            "</table>"
                        ]
                    }
                }
            ],
            "execution_count": 3
        },
        {
            "cell_type": "code",
            "source": [
                ""
            ],
            "metadata": {
                "azdata_cell_guid": "5606f7f2-c46b-42d3-ac64-7ae21c3394f8",
                "language": "sql"
            },
            "outputs": [],
            "execution_count": null
        },
        {
            "cell_type": "markdown",
            "source": [
                "### **Summary of event 1:**\n",
                "\n",
                "Double Click to edit.\n",
                "\n",
                "**_We joined the two table 'book' table and the 'tags' table, to find the title and tag\\_name with the christ keyword. Then we joined the third table 'to read' to find the number of  user who likes to read the christmas related book. The above query returns the count of the different christmas related book the each user wants to read._**"
            ],
            "metadata": {
                "azdata_cell_guid": "3bc72d4c-077b-42d3-9528-9aff8e7b6cf3"
            },
            "attachments": {}
        },
        {
            "cell_type": "code",
            "source": [
                "-- Event 2 Query\r\n",
                "--What are the name of the  horror books  with  5 ratings  and most liked to read by the users? \r\n",
                "\r\n",
                "select b.title, r.rating, count(r.user_id) as horror_user_count\r\n",
                "from BooksDB.dbo.books as b\r\n",
                "inner join BooksDB.dbo.ratings as r\r\n",
                "on b.book_id = r.book_id\r\n",
                "inner join BooksDB.dbo.to_read as tr\r\n",
                "on r.user_id = tr.user_id\r\n",
                "where r.rating = 5 and b.title like '%evil%'\r\n",
                "group by b.title, r.rating\r\n",
                "order by r.rating"
            ],
            "metadata": {
                "azdata_cell_guid": "dca0a98f-065f-4b0e-9d93-fcb01cad668c",
                "language": "sql"
            },
            "outputs": [
                {
                    "output_type": "display_data",
                    "data": {
                        "text/html": "(3 rows affected)"
                    },
                    "metadata": {}
                },
                {
                    "output_type": "display_data",
                    "data": {
                        "text/html": "Total execution time: 00:00:00.325"
                    },
                    "metadata": {}
                },
                {
                    "output_type": "execute_result",
                    "metadata": {},
                    "execution_count": 4,
                    "data": {
                        "application/vnd.dataresource+json": {
                            "schema": {
                                "fields": [
                                    {
                                        "name": "title"
                                    },
                                    {
                                        "name": "rating"
                                    },
                                    {
                                        "name": "horror_user_count"
                                    }
                                ]
                            },
                            "data": [
                                {
                                    "title": "Carter Beats the Devil",
                                    "rating": "5",
                                    "horror_user_count": "683"
                                },
                                {
                                    "title": "The Devil and Miss Prym (On the Seventh Day, #3)",
                                    "rating": "5",
                                    "horror_user_count": "251"
                                },
                                {
                                    "title": "The Devil Wears Prada (The Devil Wears Prada, #1)",
                                    "rating": "5",
                                    "horror_user_count": "353"
                                }
                            ]
                        },
                        "text/html": [
                            "<table>",
                            "<tr><th>title</th><th>rating</th><th>horror_user_count</th></tr>",
                            "<tr><td>Carter Beats the Devil</td><td>5</td><td>683</td></tr>",
                            "<tr><td>The Devil and Miss Prym (On the Seventh Day, #3)</td><td>5</td><td>251</td></tr>",
                            "<tr><td>The Devil Wears Prada (The Devil Wears Prada, #1)</td><td>5</td><td>353</td></tr>",
                            "</table>"
                        ]
                    }
                }
            ],
            "execution_count": 4
        },
        {
            "cell_type": "code",
            "source": [
                ""
            ],
            "metadata": {
                "azdata_cell_guid": "3aaae3a8-eff7-4b37-8970-2d913a67239b",
                "language": "sql"
            },
            "outputs": [],
            "execution_count": null
        },
        {
            "cell_type": "markdown",
            "source": [
                "### **Summary of event 2:**\n",
                "\n",
                "**_In event 2 we tried to find out how many horror books are 5 rated by joining books table and ratings table. But the keyword horror is not useful so we tried the evil. It returned records with horror and 5 rating. Then I joined the third table to\\_read to find out count of users who likes to read the books in this combination of  horror with 5 rating .  So finally we got the answer._**"
            ],
            "metadata": {
                "azdata_cell_guid": "99d518dc-cd8b-42d6-9a9d-708771c9aa99"
            },
            "attachments": {}
        }
    ]
}